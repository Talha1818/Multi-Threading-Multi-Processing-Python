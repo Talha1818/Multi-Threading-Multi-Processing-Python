{
 "cells": [
  {
   "cell_type": "markdown",
   "id": "fc193ac9",
   "metadata": {},
   "source": [
    "# Multi-Threading"
   ]
  },
  {
   "cell_type": "code",
   "execution_count": 1,
   "id": "f7c26f50",
   "metadata": {},
   "outputs": [],
   "source": [
    "import time\n",
    "import threading"
   ]
  },
  {
   "cell_type": "code",
   "execution_count": 2,
   "id": "e1eddbb6",
   "metadata": {},
   "outputs": [],
   "source": [
    "def cal_square(x):\n",
    "    print(\"calculating sqaure\")\n",
    "    for i in x:\n",
    "        time.sleep(0.2)\n",
    "        print(\"square: \",i*i)\n",
    "def cal_cube(x):\n",
    "    print(\"calculating cube\")\n",
    "    for i in x:\n",
    "        time.sleep(0.2)\n",
    "        print(\"cube: \",i*i*i)"
   ]
  },
  {
   "cell_type": "code",
   "execution_count": 3,
   "id": "edc7c145",
   "metadata": {},
   "outputs": [],
   "source": [
    "l = [2,3,4,5]"
   ]
  },
  {
   "cell_type": "code",
   "execution_count": 4,
   "id": "00f6e073",
   "metadata": {},
   "outputs": [
    {
     "name": "stdout",
     "output_type": "stream",
     "text": [
      "calculating sqaure\n",
      "square:  4\n",
      "square:  9\n",
      "square:  16\n",
      "square:  25\n",
      "calculating cube\n",
      "cube:  8\n",
      "cube:  27\n",
      "cube:  64\n",
      "cube:  125\n",
      "Done ==>  1.6908950805664062\n"
     ]
    }
   ],
   "source": [
    "t = time.time()\n",
    "cal_square(l)\n",
    "cal_cube(l)\n",
    "total_t = time.time()-t\n",
    "print(\"Done ==> \", total_t)"
   ]
  },
  {
   "cell_type": "code",
   "execution_count": 5,
   "id": "0cb51767",
   "metadata": {},
   "outputs": [
    {
     "name": "stdout",
     "output_type": "stream",
     "text": [
      "calculating sqaure\n",
      "calculating cube\n",
      "square: cube:  8\n",
      " 4\n",
      "cube:  27\n",
      "square:  9\n",
      "square: cube:  16\n",
      " 64\n",
      "cube:  125square:  \n",
      "25\n",
      "Done ==>  0.8505830764770508\n",
      "reduce time : 0.8403120040893555  seconds\n"
     ]
    }
   ],
   "source": [
    "t = time.time()\n",
    "\n",
    "t1 = threading.Thread(target=cal_square, args=(l,))\n",
    "t2 = threading.Thread(target=cal_cube, args=(l,))\n",
    "\n",
    "t1.start()\n",
    "t2.start()\n",
    "\n",
    "t1.join()\n",
    "t2.join()\n",
    "\n",
    "total_t1 = time.time()-t\n",
    "print(\"Done ==> \", total_t1)\n",
    "\n",
    "print(\"reduce time :\", (total_t-total_t1), ' seconds')"
   ]
  },
  {
   "cell_type": "code",
   "execution_count": 6,
   "id": "bb98517d",
   "metadata": {},
   "outputs": [],
   "source": [
    "from threading import *"
   ]
  },
  {
   "cell_type": "code",
   "execution_count": 7,
   "id": "e837034c",
   "metadata": {},
   "outputs": [],
   "source": [
    "class Hello(Thread):\n",
    "    def run_(self):\n",
    "        for i in range(5):\n",
    "            print(\"HELLO \")\n",
    "            time.sleep(0.1)\n",
    "class Hi(Thread):\n",
    "    def run_(self):\n",
    "        for i in range(5):\n",
    "            print(\" HI \")\n",
    "            time.sleep(0.1)\n",
    "            "
   ]
  },
  {
   "cell_type": "code",
   "execution_count": 8,
   "id": "c2ad178d",
   "metadata": {},
   "outputs": [
    {
     "name": "stdout",
     "output_type": "stream",
     "text": [
      "HELLO \n",
      "HELLO \n",
      "HELLO \n",
      "HELLO \n",
      "HELLO \n",
      " HI \n",
      " HI \n",
      " HI \n",
      " HI \n",
      " HI \n"
     ]
    }
   ],
   "source": [
    "t1 = Hello()\n",
    "t2 = Hi()\n",
    "t1.run_()\n",
    "t2.run_()"
   ]
  },
  {
   "cell_type": "code",
   "execution_count": 9,
   "id": "1c249370",
   "metadata": {},
   "outputs": [
    {
     "name": "stdout",
     "output_type": "stream",
     "text": [
      "HELLO  HI \n",
      "\n",
      "HELLO  HI \n",
      "\n",
      " HI \n",
      "HELLO \n",
      "HELLO  HI \n",
      "\n",
      "HELLO \n",
      " HI \n",
      "done.\n"
     ]
    }
   ],
   "source": [
    "t11 = Thread(target=t1.run_)\n",
    "t22 = Thread(target=t2.run_)\n",
    "\n",
    "t11.start()\n",
    "t22.start()\n",
    "\n",
    "t11.join()\n",
    "t22.join()\n",
    "print(\"done.\")"
   ]
  },
  {
   "cell_type": "markdown",
   "id": "cdd0bce4",
   "metadata": {},
   "source": [
    "# Multi-Processing"
   ]
  },
  {
   "cell_type": "code",
   "execution_count": 4,
   "id": "619cf198",
   "metadata": {},
   "outputs": [],
   "source": [
    "import multiprocessing\n",
    "def cal_square(x):\n",
    "    print(\"calculating sqaure\")\n",
    "    for i in x:\n",
    "        time.sleep(0.2)\n",
    "        print(\"square: \",i*i)\n",
    "def cal_cube(x):\n",
    "    print(\"calculating cube\")\n",
    "    for i in x:\n",
    "        time.sleep(0.2)\n",
    "        print(\"cube: \",i*i*i)\n",
    "        "
   ]
  },
  {
   "cell_type": "code",
   "execution_count": 5,
   "id": "170d3395",
   "metadata": {},
   "outputs": [
    {
     "name": "stdout",
     "output_type": "stream",
     "text": [
      "done\n"
     ]
    }
   ],
   "source": [
    "if __name__==\"__main__\":\n",
    "    l = [2,3,4,5]\n",
    "    p1 = multiprocessing.Process(target=cal_square, args=(l,))\n",
    "    p2 = multiprocessing.Process(target=cal_cube, args=(l,))\n",
    "\n",
    "    p1.start()\n",
    "    p2.start()\n",
    "\n",
    "    p1.join()\n",
    "    p2.join()\n",
    "    print(\"done\")"
   ]
  },
  {
   "cell_type": "code",
   "execution_count": 7,
   "id": "b54ba757",
   "metadata": {},
   "outputs": [
    {
     "name": "stdout",
     "output_type": "stream",
     "text": [
      "ID of main process: 10956\n",
      "ID of process p1: 5908\n",
      "ID of process p2: 8200\n",
      "Both processes finished execution!\n",
      "Process p1 is alive: False\n",
      "Process p2 is alive: False\n"
     ]
    }
   ],
   "source": [
    "# importing the multiprocessing module\n",
    "import multiprocessing\n",
    "import os\n",
    "\n",
    "def worker1():\n",
    "    # printing process id\n",
    "    print(\"ID of process running worker1: {}\".format(os.getpid()))\n",
    "\n",
    "def worker2():\n",
    "    # printing process id\n",
    "    print(\"ID of process running worker2: {}\".format(os.getpid()))\n",
    "\n",
    "if __name__ == \"__main__\":\n",
    "    # printing main program process id\n",
    "    print(\"ID of main process: {}\".format(os.getpid()))\n",
    "\n",
    "    # creating processes\n",
    "    p1 = multiprocessing.Process(target=worker1)\n",
    "    p2 = multiprocessing.Process(target=worker2)\n",
    "\n",
    "    # starting processes\n",
    "    p1.start()\n",
    "    p2.start()\n",
    "\n",
    "    # process IDs\n",
    "    print(\"ID of process p1: {}\".format(p1.pid))\n",
    "    print(\"ID of process p2: {}\".format(p2.pid))\n",
    "\n",
    "    # wait until processes are finished\n",
    "    p1.join()\n",
    "    p2.join()\n",
    "\n",
    "    # both processes finished\n",
    "    print(\"Both processes finished execution!\")\n",
    "\n",
    "    # check if processes are alive\n",
    "    print(\"Process p1 is alive: {}\".format(p1.is_alive()))\n",
    "    print(\"Process p2 is alive: {}\".format(p2.is_alive()))\n"
   ]
  },
  {
   "cell_type": "code",
   "execution_count": null,
   "id": "34ee8337",
   "metadata": {},
   "outputs": [],
   "source": []
  }
 ],
 "metadata": {
  "kernelspec": {
   "display_name": "Python 3 (ipykernel)",
   "language": "python",
   "name": "python3"
  },
  "language_info": {
   "codemirror_mode": {
    "name": "ipython",
    "version": 3
   },
   "file_extension": ".py",
   "mimetype": "text/x-python",
   "name": "python",
   "nbconvert_exporter": "python",
   "pygments_lexer": "ipython3",
   "version": "3.9.7"
  }
 },
 "nbformat": 4,
 "nbformat_minor": 5
}
